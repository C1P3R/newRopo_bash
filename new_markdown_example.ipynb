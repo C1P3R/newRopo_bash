{
 "cells": [
  {
   "cell_type": "markdown",
   "id": "f080ed3d",
   "metadata": {},
   "source": [
    "# My Jupyter Notebook on IBM Watson Studio"
   ]
  },
  {
   "cell_type": "markdown",
   "id": "19e5a6de",
   "metadata": {},
   "source": [
    "**srinivas**\n"
   ]
  },
  {
   "cell_type": "markdown",
   "id": "4d89ea41",
   "metadata": {},
   "source": [
    "*I am interested in data science because*"
   ]
  },
  {
   "cell_type": "markdown",
   "id": "aead363a",
   "metadata": {},
   "source": [
    "### Select the notebook which is displayed in the left Navigation pane. Right click on it and click on the Download option. ###"
   ]
  },
  {
   "cell_type": "markdown",
   "id": "469d306a",
   "metadata": {},
   "source": [
    "1+1"
   ]
  },
  {
   "cell_type": "markdown",
   "id": "5a0a909b",
   "metadata": {},
   "source": [
    "***My Jupyter Notebook on IBM Watson Studio***"
   ]
  },
  {
   "cell_type": "markdown",
   "id": "e74cf6dd",
   "metadata": {},
   "source": [
    "- My Jupyter Notebook on IBM Watson Studio\n",
    "    - My Jupyter Notebook on IBM Watson Studio"
   ]
  },
  {
   "cell_type": "markdown",
   "id": "46b6ac4e",
   "metadata": {},
   "source": [
    "| Syntax | Description |\n",
    "| --- | ----------- |\n",
    "| Header | Title |\n",
    "| Paragraph | Text |"
   ]
  },
  {
   "cell_type": "markdown",
   "id": "84b8f2fc",
   "metadata": {},
   "source": [
    "<img src=\"https://www.mail-signatures.com/wp-content/uploads/2019/02/How-to-find-direct-link-to-image_Blog-Picture.png\" alt=\"Alt text\" title=\"new image from internet\" />"
   ]
  },
  {
   "cell_type": "markdown",
   "id": "5b2259e3",
   "metadata": {},
   "source": [
    "```\n",
    "            >>>print('hello')\" '''next line ..STRING ''' \"\n",
    "```"
   ]
  },
  {
   "cell_type": "markdown",
   "id": "b3cfea0c",
   "metadata": {},
   "source": [
    "~~strikethrough~~"
   ]
  },
  {
   "cell_type": "markdown",
   "id": "a73479bb",
   "metadata": {},
   "source": [
    ">blocked quotes\">STRING\""
   ]
  },
  {
   "cell_type": "markdown",
   "id": "01a2e18f",
   "metadata": {},
   "source": [
    "_[new_link(_[new_link](https://www.markdownguide.org/)_)](https://www.markdownguide.org/)_"
   ]
  },
  {
   "cell_type": "markdown",
   "id": "c147a9c1",
   "metadata": {},
   "source": [
    "1. My Jupyter Notebook on IBM Watson Studio"
   ]
  }
 ],
 "metadata": {
  "kernelspec": {
   "display_name": "Python 3 (ipykernel)",
   "language": "python",
   "name": "python3"
  },
  "language_info": {
   "codemirror_mode": {
    "name": "ipython",
    "version": 3
   },
   "file_extension": ".py",
   "mimetype": "text/x-python",
   "name": "python",
   "nbconvert_exporter": "python",
   "pygments_lexer": "ipython3",
   "version": "3.9.12"
  }
 },
 "nbformat": 4,
 "nbformat_minor": 5
}
