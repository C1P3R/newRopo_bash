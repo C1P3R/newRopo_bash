{
    "cells": [
        {
            "metadata": {},
            "cell_type": "markdown",
            "source": "new_notebook"
        },
        {
            "metadata": {},
            "cell_type": "code",
            "source": "a=1\nb=3\nc=a+b\nc",
            "execution_count": 2,
            "outputs": [
                {
                    "output_type": "execute_result",
                    "execution_count": 2,
                    "data": {
                        "text/plain": "4"
                    },
                    "metadata": {}
                }
            ]
        },
        {
            "metadata": {},
            "cell_type": "code",
            "source": "print(\"hello_repo this is new repo from IBM Watson Studio\")",
            "execution_count": 3,
            "outputs": [
                {
                    "output_type": "stream",
                    "text": "hello_repo this is new repo from IBM Watson Studio\n",
                    "name": "stdout"
                }
            ]
        }
    ],
    "metadata": {
        "kernelspec": {
            "name": "python3",
            "display_name": "Python 3.9",
            "language": "python"
        },
        "language_info": {
            "name": "python",
            "version": "3.9.12",
            "mimetype": "text/x-python",
            "codemirror_mode": {
                "name": "ipython",
                "version": 3
            },
            "pygments_lexer": "ipython3",
            "nbconvert_exporter": "python",
            "file_extension": ".py"
        }
    },
    "nbformat": 4,
    "nbformat_minor": 1
}